{
 "cells": [
  {
   "attachments": {},
   "cell_type": "markdown",
   "id": "b4f92ef6",
   "metadata": {},
   "source": [
    "# *May the best explanation win*: \n",
    "# A tutorial on benchmarking and tuning model explanations\n",
    "\n",
    "Which metrics can we use to benchmark different pixel attribution techniques ?\n",
    "\n",
    "How can we measure if a model explanation is good or bad?\n",
    "\n",
    "What kind of problems do metrics for model explanatiosn have that we should be aware of ?\n",
    "\n",
    "And maybe most importantly - how can we use this in practice to tune our explanation ?\n",
    "\n",
    "In this tutorial you will:\n",
    "- Get an overview of different model explanation metrics used (in computer vision) to rank explanation methods.\n",
    "- Learn how to get the metrics in the pytorch-grad-cam package.\n",
    "- See examples of how to use these metrics to get better explanations for your images.\n",
    "\n",
    "## Evaluating the explanations by using them for localization\n",
    "\n",
    "In 2016 we had the first explainability methods comming out - Class Activation Maps for Networks with Global Averge Pooling (https://arxiv.org/abs/1512.04150v1) and then soon after GradCAM (https://arxiv.org/abs/1610.02391).\n",
    "\n",
    "The CAM paper suggested evaluating the explanations by extracting bounding boxes out of them, and comparing to the bounding boxes in the ILSVRC dataset (a subset of Imagenet that has bounding box annotations).\n",
    "The reasoning here is that if the explanation is good, and correct, it will probably overlap with the actual object.\n",
    "\n",
    "The bounding box itself is created by just keeping the top 20% highest pixels in the CAM and taking the largest connected compnent.\n",
    "\n",
    "![image.png](bbox.png)\n",
    "*Image from https://arxiv.org/abs/1512.04150v1*\n",
    "\n",
    "\n",
    "That's useful in itself, but it's just a proxy to what we really want - an explanation that reflects the model decision process. \n",
    "Imagine that our model is able to identify a cat only by its ears, but didn't learn anything else. It's body and fur - irrelevant, our model doesn't use them.\n",
    "\n",
    "A good explanation here would highlight what the model is using - the ears.\n",
    "The overlap between the bounding box of our ideal explanation (around the cat ears) and the cat bounding box would be low.\n",
    "And we want it to be low, since it's not using the cat's body.\n",
    "\n",
    "Similarly, the Grad-CAM suggested using something called \"the pointing game\".\n",
    "You get the point with the highest value in the CAM, and check if it falls inside a bounding box.\n",
    "That's actually a bit better, but still is a limitted metric.\n",
    "\n",
    "The Score-CAM paper (https://arxiv.org/abs/1910.01279) suggested evaluating with localization by measuring the total sum of CAM pixels inside the bounding box.\n",
    "\n",
    "## Evaluating the explanations by using them to pertubate the image and predicting again\n",
    "Then came the GradCAM++ paper and offered some metrics that are still widely used.\n",
    "\n",
    "You multiply the image (before image-net normalization) by the explanation. Only regions that score high will still be visible. \n",
    "![image-2.png](multimage.png)\n",
    "*Image from the GradCAM++ paper (https://arxiv.org/abs/1710.11063)*\n",
    "\n",
    "\n",
    "Then you run the new modified \"dark\" image through the model, and check the new category scores.\n",
    "\n",
    "The metrics are:\n",
    "- (Smaller value is better) Drop in Confidence: What's the percentage drop of the condience ? (or 0 if the confidence increased).\n",
    "The confidence is assumed to drop a bit since we're removing details.\n",
    "\n",
    "- (Larger value is better) Increase in confidence: In how many of the cases did the confidence increase.\n",
    "\n",
    "You might ask: why do we need two complementory metrics, why not just measure the average change in confidence.\n",
    "I'm not sure, I suspect that would be better.\n",
    "\n",
    "This is a way of measuring the \"fidelity\" or \"faithfulness\" of the explanation. We want a good explanation to reflect the actual regions that the model is using.\n",
    "\n",
    "\n",
    "### Side comment: Metric reproducability and small implementation details\n",
    "\n",
    "In the GradCAM++ paper image above the masked images are black, so it looks like they are multiplying the original image,\n",
    "before the image-net normalization.\n",
    "\n",
    "I'm pretty sure that most of the methods that came after that, multiplied the tensor in the input to the model, after image-net normalization.\n",
    "\n",
    "Both should be similar, but with difference that maybe black pixels (multiplying pre normalization) make the images look more different than the distribution of natural images, and maybe that has some effect.\n",
    "\n",
    "No one is sharing the CAM evaluation code, and no one is commenting about that implementation detail in the papers, so I'm pretty sure the different papers are using differnt metrics ;-) \n",
    "\n",
    "\n",
    "Before moving on to other metrics, lets take a first look at how to use these metrics in the pytorch-grad-cam package.\n"
   ]
  },
  {
   "cell_type": "code",
   "execution_count": null,
   "id": "0bd0c9be",
   "metadata": {},
   "outputs": [],
   "source": [
    "import os\n",
    "os.environ[\"CUDA_VISIBLE_DEVICES\"] = \"3\"  # 将 \"0\" 替换为你想指定的 GPU ID\n"
   ]
  },
  {
   "cell_type": "code",
   "execution_count": null,
   "id": "069fa11c",
   "metadata": {},
   "outputs": [],
   "source": [
    "import sys\n",
    "\n",
    "sys.path.append('/home/caihuaiguang/DSG/pytorch-shapley-cam')\n",
    "\n",
    "# 验证路径是否已添加\n",
    "print(sys.path)\n"
   ]
  },
  {
   "cell_type": "code",
   "execution_count": null,
   "id": "5673070c",
   "metadata": {
    "ExecuteTime": {
     "end_time": "2024-07-24T16:08:26.871210500Z",
     "start_time": "2024-07-24T16:08:15.726143300Z"
    }
   },
   "outputs": [],
   "source": [
    "import warnings\n",
    "warnings.filterwarnings('ignore')\n",
    "from torchvision import models\n",
    "import numpy as np\n",
    "import cv2\n",
    "import requests\n",
    "from pytorch_grad_cam import GradCAM\n",
    "from pytorch_grad_cam.utils.model_targets import ClassifierOutputTarget\n",
    "from pytorch_grad_cam.utils.image import show_cam_on_image, \\\n",
    "    deprocess_image, \\\n",
    "    preprocess_image\n",
    "from PIL import Image\n",
    "\n",
    "model = models.resnet50(pretrained=True)\n",
    "model.eval()\n",
    "image_url = \"https://th.bing.com/th/id/R.94b33a074b9ceeb27b1c7fba0f66db74?rik=wN27mvigyFlXGg&riu=http%3a%2f%2fimages5.fanpop.com%2fimage%2fphotos%2f31400000%2fBear-Wallpaper-bears-31446777-1600-1200.jpg&ehk=oD0JPpRVTZZ6yizZtGQtnsBGK2pAap2xv3sU3A4bIMc%3d&risl=&pid=ImgRaw&r=0\"\n",
    "img = np.array(Image.open(requests.get(image_url, stream=True).raw))\n",
    "img = cv2.resize(img, (224, 224))\n",
    "img = np.float32(img) / 255\n",
    "input_tensor = preprocess_image(img, mean=[0.485, 0.456, 0.406], std=[0.229, 0.224, 0.225])\n",
    "\n",
    "# The target for the CAM is the Bear category.\n",
    "# As usual for classication, the target is the logit output\n",
    "# before softmax, for that category.\n",
    "targets = [ClassifierOutputTarget(295)]\n",
    "target_layers = [model.layer4]\n",
    "with GradCAM(model=model, target_layers=target_layers) as cam:\n",
    "    grayscale_cams = cam(input_tensor=input_tensor, targets=targets)\n",
    "    cam_image = show_cam_on_image(img, grayscale_cams[0, :], use_rgb=True)\n",
    "cam = np.uint8(255*grayscale_cams[0, :])\n",
    "cam = cv2.merge([cam, cam, cam])\n",
    "images = np.hstack((np.uint8(255*img), cam , cam_image))\n",
    "Image.fromarray(images)"
   ]
  },
  {
   "cell_type": "code",
   "execution_count": null,
   "id": "afdc255d",
   "metadata": {
    "ExecuteTime": {
     "end_time": "2024-07-24T16:08:26.990862900Z",
     "start_time": "2024-07-24T16:08:26.868612700Z"
    }
   },
   "outputs": [],
   "source": [
    "# Now lets see how to evaluate this explanation:\n",
    "from pytorch_grad_cam.metrics.cam_mult_image import CamMultImageConfidenceChange\n",
    "from pytorch_grad_cam.utils.model_targets import ClassifierOutputSoftmaxTarget\n",
    "\n",
    "# For the metrics we want to measure the change in the confidence, after softmax, that's why\n",
    "# we use ClassifierOutputSoftmaxTarget.\n",
    "targets = [ClassifierOutputSoftmaxTarget(295)]\n",
    "cam_metric = CamMultImageConfidenceChange()\n",
    "scores, visualizations = cam_metric(input_tensor, grayscale_cams, targets, model, return_visualization=True)\n",
    "score = scores[0]\n",
    "visualization = visualizations[0].cpu().numpy().transpose((1, 2, 0))\n",
    "visualization = deprocess_image(visualization)\n",
    "print(f\"The confidence increase percent: {100*score}\")\n",
    "print(\"The visualization of the pertubated image for the metric:\")\n",
    "Image.fromarray(visualization)"
   ]
  },
  {
   "cell_type": "markdown",
   "id": "6843ef02",
   "metadata": {},
   "source": [
    "The confidence increase here is positive.\n",
    "\n",
    "That's a good sign - the CAM reduced noise from other parts of the image and retains the information that triggers the category output.\n",
    "\n",
    "- The \"drop in confidence\" metric here from the gradcam++ paper would be 0 (since it's negative).\n",
    "- The \"increase in confidence\" metric would be 1 (since there is an increase in confidence).\n",
    "For completeness, lets see how we can use those metrics directly:"
   ]
  },
  {
   "cell_type": "code",
   "execution_count": null,
   "id": "b5a19610",
   "metadata": {
    "ExecuteTime": {
     "end_time": "2024-07-24T16:08:27.261711700Z",
     "start_time": "2024-07-24T16:08:26.992870300Z"
    }
   },
   "outputs": [],
   "source": [
    "from pytorch_grad_cam.metrics.cam_mult_image import DropInConfidence, IncreaseInConfidence\n",
    "print(\"Drop in confidence\", DropInConfidence()(input_tensor, grayscale_cams, targets, model))\n",
    "print(\"Increase in confidence\", IncreaseInConfidence()(input_tensor, grayscale_cams, targets, model))"
   ]
  },
  {
   "cell_type": "markdown",
   "id": "731c1c49",
   "metadata": {},
   "source": [
    "Similarly, we could pertubate the image by deleting pixels with high values in the CAM.\n",
    "In this case, we would WANT a larger drop in the confidence."
   ]
  },
  {
   "cell_type": "code",
   "execution_count": null,
   "id": "e5734852",
   "metadata": {
    "ExecuteTime": {
     "end_time": "2024-07-24T16:08:27.367181700Z",
     "start_time": "2024-07-24T16:08:27.245700700Z"
    }
   },
   "outputs": [],
   "source": [
    "inverse_cams = 1 - grayscale_cams\n",
    "scores, visualizations = CamMultImageConfidenceChange()(input_tensor, inverse_cams, targets, model, return_visualization=True)\n",
    "score = scores[0]\n",
    "visualization = visualizations[0].cpu().numpy().transpose((1, 2, 0))\n",
    "visualization = deprocess_image(visualization)\n",
    "print(f\"The confidence increase percent: {score}\")\n",
    "print(\"The visualization of the pertubated image for the metric:\")\n",
    "Image.fromarray(visualization)"
   ]
  },
  {
   "cell_type": "markdown",
   "id": "e8a08e24",
   "metadata": {},
   "source": [
    "# We deleted important parts, how come it became more confident ?\n",
    "When we pertubate the supposedly impotant parts, the model actually becomes more confident than before.\n",
    "Maybe the CAM explanation wasn't telling us the whole story in the first place, and there are other parts that were important as well that is was missing.\n",
    "This shows us the importance of using complementory metrics, and how these metrics can contradict each other.\n",
    "\n",
    "Another problem here however is that the CAM itself has values that are medium range all over it:\n",
    "after the pertubation, we can still see the bear in the image.\n",
    "Getting the Image*CAM to work requires the CAM to have a distribution that's more stretched.\n",
    "\n",
    "This is the motivation for other methods that threshold the CAM and create binary masks.\n",
    "Lets completely remove the highest scoring 25%, and see that the model confidence drops now."
   ]
  },
  {
   "cell_type": "code",
   "execution_count": null,
   "id": "790b40d4",
   "metadata": {
    "ExecuteTime": {
     "end_time": "2024-07-24T16:08:27.535550900Z",
     "start_time": "2024-07-24T16:08:27.367181700Z"
    }
   },
   "outputs": [],
   "source": [
    "thresholded_cam = grayscale_cams < np.percentile(grayscale_cams, 75)\n",
    "scores, visualizations = CamMultImageConfidenceChange()(input_tensor, thresholded_cam, targets, model, return_visualization=True)\n",
    "score = scores[0]\n",
    "visualization = visualizations[0].cpu().numpy().transpose((1, 2, 0))\n",
    "visualization = deprocess_image(visualization)\n",
    "print(f\"The confidence increase: {score}\")\n",
    "print(\"The visualization of the pertubated image for the metric:\")\n",
    "Image.fromarray(visualization)"
   ]
  },
  {
   "cell_type": "markdown",
   "id": "cd278873",
   "metadata": {},
   "source": [
    "But the image above doesn't look quite natural, does it ?\n",
    "\n",
    "## Remove and Retrain (ROAR)\n",
    "https://arxiv.org/abs/1806.10758\n",
    "\n",
    "When you pertubate the image by modifying the highest scoring regions, and the confidence decreases:\n",
    "- Is it because the explanation is good and all of cues the model was using were now removed ?\n",
    "- Or is it because of the pertubation method itself that's causing a distribution shift in the data: maybe the new image is so different than what the model expects, so un-natural, that the confidence drops. \n",
    "\n",
    "*Maybe it thinks that all that gray above is a road, or an airplane.*\n",
    "\n",
    "The claim in this paper is that the high confidence drops the different methods show, is actually because of the latter.\n",
    "When they pertubate the images by removing highest scoring pixels and then retrain, they the model is still actually much more accurate than expected.\n",
    "Because of this, they argue that we should retrain on the pertubated images to be able to adapt to the pertubations. If the explanation method still scores high - we know we can trust it much more.\n",
    "\n",
    "They also show that common methods (altough they focused more on gradient based method and not on CAM methods) are worse on this benchmark then classical computer vision edge detector (Sobel) that doesn't depend on the model parameters at all.\n",
    "So basically some methods that claim they are better than others, aren't really.\n",
    "\n",
    "Benchmarking against random explanations, or explanations that don't depend on the model (like edge detection), is a very interesting idea in itself, so lets take a look at that."
   ]
  },
  {
   "cell_type": "code",
   "execution_count": null,
   "id": "3ea472d8",
   "metadata": {
    "ExecuteTime": {
     "end_time": "2024-07-24T16:08:27.772718500Z",
     "start_time": "2024-07-24T16:08:27.538551400Z"
    }
   },
   "outputs": [],
   "source": [
    "from pytorch_grad_cam.sobel_cam import sobel_cam\n",
    "\n",
    "sobel_cam_grayscale = sobel_cam(np.uint8(img * 255))\n",
    "thresholded_cam = sobel_cam_grayscale < np.percentile(sobel_cam_grayscale, 75)\n",
    "\n",
    "cam_metric = CamMultImageConfidenceChange()\n",
    "scores, visualizations = cam_metric(input_tensor, [thresholded_cam], targets, model, return_visualization=True)\n",
    "score = scores[0]\n",
    "visualization = visualizations[0].cpu().numpy().transpose((1, 2, 0))\n",
    "visualization = deprocess_image(visualization)\n",
    "print(f\"The confidence increase: {score}\")\n",
    "print(\"The visualization of the pertubated image for the metric:\")\n",
    "sobel_cam_rgb = cv2.merge([sobel_cam_grayscale, sobel_cam_grayscale, sobel_cam_grayscale])\n",
    "Image.fromarray(np.hstack((sobel_cam_rgb, visualization)))\n"
   ]
  },
  {
   "cell_type": "markdown",
   "id": "d9a7dccf",
   "metadata": {},
   "source": [
    "Ok, good. So our CAM scores higher than a classic edge detector on this benchmark.\n",
    "That's good news !\n",
    "\n",
    "Back to the ROAR method - \n",
    "Re-training a model on the pertubated images is very expensive.\n",
    "We don't even always know in advance what explanation method we want to chose.\n",
    "For many users this won't be a practical approach. Altough if the stakes are high and you want to be 100% sure about the explanation, this is something to consider.\n",
    "\n",
    "So what can we do?\n",
    "\n",
    "# Sanity Checks for Saliency Metrics\n",
    "https://arxiv.org/abs/1912.01451\n",
    "\n",
    "This paper introduces a metric called \"Area Over the Perturbation Curve\" - AOPC, which is the average confidence drop over different removal percentiles.\n",
    "(We will later call that MostRelevantFirstAverage or LeastRelevantFirstAverage since I think it's a bit more explicit and clear, but it's the same).\n",
    "\n",
    "They check different imputation strategies:\n",
    "- Replacing pixels that need to be deleted, by random values.\n",
    "- Replacing pixels that need to be deleted, by the mean (for R,G,B separately) in the image.\n",
    "- Removing the highest attention pixels first: Most Relevant First (MORF).\n",
    "- Removing the least attention pixels first: Least Relevant First (LERF).\n",
    "\n",
    "And then check how different algorithms differ on average acrross a dataset, but also for different individual images.\n",
    "Ultimately we care about an individual image - we want to make sure the explanation we use for it is reliable.\n",
    "\n",
    "The conclusion (in my own words) is that it's a wild west.\n",
    "Different imputation strategies give different results. MORF and LERF give different results for different algorithms, and basically measure different properties.\n",
    "For the same image, it's difficult to know in advance what explanation strategy will work best.\n",
    "\n",
    "This means that going forward, we will need a combination of metrics, will need take in mind the imputation strategy, and will definately need to look at every image individually. \n",
    "\n",
    "\n",
    "# ROAD: Remove and Debias\n",
    "https://arxiv.org/abs/2202.00449\n",
    "\n",
    "The claim in this paper is that the perbutbated image (they use the term \"imputed image\") itself is leaking data. \n",
    "Even the previous ROAR method can suffer from that.\n",
    "They use a beutiful example so I'm going to just paste that here:\n",
    "\n",
    "*Imagine a two-class problem that consists of detecting whether an object is located on the\n",
    "left or the right side of an image. A reasonable attribution\n",
    "method masks out pixels on the left or the right depending\n",
    "on the location of the object. In this case, the retraining\n",
    "step can lead to a classifier that infers the class just from the\n",
    "location of the masked out pixels and obtain high accuracy.*\n",
    "\n",
    "They further show that it's easy to train models that predict what pixels are a result of the pertubation,\n",
    "and that it's possible to train models with surprising accuracy using just the binary masks.\n",
    "So it's possible to detect the mask, and then infer things from it.\n",
    "\n",
    "To solve this they propose a pertubation method that's more difficult to detect. And since it's good and there is less of a distribution shift, training with ROAR doesn't have an advantage any more: different metrics are more consistent with each other.\n",
    "\n",
    "What they do is replace every pixel that needs to be removed with a weighted average of it's neighbours. Since some of it's neighbours might also need to be removed, we get system of linear equations that we have to solve, to find the new values of the pixels we want to replace."
   ]
  },
  {
   "cell_type": "code",
   "execution_count": null,
   "id": "18053cf4",
   "metadata": {
    "ExecuteTime": {
     "end_time": "2024-07-24T16:08:28.182502400Z",
     "start_time": "2024-07-24T16:08:27.771715200Z"
    }
   },
   "outputs": [],
   "source": [
    "from pytorch_grad_cam.metrics.road import ROADMostRelevantFirst\n",
    "cam_metric = ROADMostRelevantFirst(percentile=75)\n",
    "scores, visualizations = cam_metric(input_tensor, grayscale_cams, targets, model, return_visualization=True)\n",
    "score = scores[0]\n",
    "visualization = visualizations[0].cpu().numpy().transpose((1, 2, 0))\n",
    "visualization = deprocess_image(visualization)\n",
    "print(f\"The confidence increase when removing 25% of the image: {score}\")\n",
    "\n",
    "cam_metric = ROADMostRelevantFirst(percentile=90)\n",
    "scores, visualizations = cam_metric(input_tensor, grayscale_cams, targets, model, return_visualization=True)\n",
    "score = scores[0]\n",
    "visualization_10 = visualizations[0].cpu().numpy().transpose((1, 2, 0))\n",
    "visualization_10 = deprocess_image(visualization_10)\n",
    "print(f\"The confidence increase when removing 10% of the image: {score}\")\n",
    "print(\"The visualizations:\")\n",
    "Image.fromarray(np.hstack((visualization, visualization_10)))"
   ]
  },
  {
   "cell_type": "markdown",
   "id": "c641d430",
   "metadata": {},
   "source": [
    "This is much better than replacing with the gray.\n",
    "But to be honest it's still quite distinguishable from the rest of the image since it's so blurry.\n",
    "So more work is needed to make this a convincing pertubation.\n",
    "GANs can be useful here (and were used in the literature for this), but are computationally expensive.\n",
    "\n",
    "\n",
    "How much from the image should we remove ?\n",
    "\n",
    "That depends on the object size and varies, so it makes sense to try different percentiles and then take the average, if we want a more robust metric."
   ]
  },
  {
   "cell_type": "code",
   "execution_count": null,
   "id": "651ff091",
   "metadata": {
    "ExecuteTime": {
     "end_time": "2024-07-24T16:08:30.195271600Z",
     "start_time": "2024-07-24T16:08:28.176988500Z"
    }
   },
   "outputs": [],
   "source": [
    "from pytorch_grad_cam.metrics.road import ROADMostRelevantFirstAverage\n",
    "cam_metric = ROADMostRelevantFirstAverage(percentiles=[20, 40, 60, 80])\n",
    "scores = cam_metric(input_tensor, grayscale_cams, targets, model)\n",
    "print(f\"The average confidence increase with ROAD accross 4 thresholds: {scores[0]}\")\n",
    "scores = cam_metric(input_tensor, [sobel_cam_grayscale], targets, model)\n",
    "print(f\"The average confidence increase for Sobel edge detection with ROAD accross 4 thresholds: {scores[0]}\")"
   ]
  },
  {
   "cell_type": "markdown",
   "id": "8e4429fd",
   "metadata": {},
   "source": [
    "How would this metric look if we just zerod out the cam completely ?"
   ]
  },
  {
   "cell_type": "code",
   "execution_count": null,
   "id": "35c27c85",
   "metadata": {
    "ExecuteTime": {
     "end_time": "2024-07-24T16:08:32.235019500Z",
     "start_time": "2024-07-24T16:08:30.193272200Z"
    }
   },
   "outputs": [],
   "source": [
    "cam_metric = ROADMostRelevantFirstAverage(percentiles=[20, 40, 60, 80])\n",
    "scores = cam_metric(input_tensor, grayscale_cams * 0, targets, model)\n",
    "print(f\"Empty CAM, Most relevant first avg confidence increase with ROAD accross 4 thresholds: {scores[0]}\")"
   ]
  },
  {
   "cell_type": "markdown",
   "id": "fa9ec893",
   "metadata": {},
   "source": [
    "Uh oh.\n",
    "Of course the drop in confidence will be huge if we corrupt the CAM completely.\n",
    "To balance that we can see what happens when we delete the least relevant first, we would want the confidence increase to be larger.\n",
    "And for an empty CAM as baseline - the confidence increase should be very negative (bad) for LeastRelevantFirst."
   ]
  },
  {
   "cell_type": "code",
   "execution_count": null,
   "id": "febf3aca",
   "metadata": {
    "ExecuteTime": {
     "end_time": "2024-07-24T16:08:34.337399Z",
     "start_time": "2024-07-24T16:08:32.238018600Z"
    }
   },
   "outputs": [],
   "source": [
    "from pytorch_grad_cam.metrics.road import ROADLeastRelevantFirstAverage, ROADMostRelevantFirstAverage\n",
    "cam_metric = ROADLeastRelevantFirstAverage(percentiles=[20, 40, 60, 80])\n",
    "scores = cam_metric(input_tensor, grayscale_cams * 0, targets, model)\n",
    "print(f\"Empty CAM, Least relevant first avg confidence increase with ROAD accross 4 thresholds: {scores[0]}\")"
   ]
  },
  {
   "cell_type": "markdown",
   "id": "d125549b",
   "metadata": {},
   "source": [
    "Good.\n",
    "To finalize this, lets use a custom single metric that is a combination of Least Relevant First and Most Relevant First:\n",
    "\n",
    "(Least Relevant First - Most Relevant First) / 2, accross different thresholds.\n",
    "\n",
    "This way we get a single metric and don't have to inspect both."
   ]
  },
  {
   "cell_type": "code",
   "execution_count": null,
   "id": "89c799ac",
   "metadata": {
    "ExecuteTime": {
     "end_time": "2024-07-24T16:08:38.375962400Z",
     "start_time": "2024-07-24T16:08:34.334399700Z"
    }
   },
   "outputs": [],
   "source": [
    "from pytorch_grad_cam.metrics.road import ROADCombined\n",
    "cam_metric = ROADCombined(percentiles=[20, 40, 60, 80])\n",
    "scores = cam_metric(input_tensor, grayscale_cams * 0, targets, model)\n",
    "print(f\"Empty CAM, Combined metric avg confidence increase with ROAD accross 4 thresholds (positive is better): {scores[0]}\")"
   ]
  },
  {
   "cell_type": "markdown",
   "id": "129e74b4",
   "metadata": {},
   "source": [
    "So we have ethods that can rank our model explanations.\n",
    "We saw we can compare that against a sobel edge detector as a sanity check to see we're better.\n",
    "\n",
    "Lets see how to use this to get better explanations.\n",
    "\n",
    "We will also use a toy RandomCAM that generates CAMs with random uniform values in the range [-1, 1] for the spatial activations.\n",
    "If our CAM methods are that smart, they should be much better than it, on average."
   ]
  },
  {
   "cell_type": "code",
   "execution_count": null,
   "id": "594d1388",
   "metadata": {
    "ExecuteTime": {
     "end_time": "2024-07-24T16:12:48.466615300Z",
     "start_time": "2024-07-24T16:12:42.912555200Z"
    }
   },
   "outputs": [],
   "source": [
    "from pytorch_grad_cam import GradCAM, GradCAMPlusPlus, EigenGradCAM,  XGradCAM, LayerCAM, AblationCAM, RandomCAM, ShapleyCAM, HiResCAM, ScoreCAM\n",
    "\n",
    "# Showing the metrics on top of the CAM : \n",
    "def visualize_score(visualization, score, name, percentiles):\n",
    "    visualization = cv2.putText(visualization, name, (10, 20), \n",
    "                                cv2.FONT_HERSHEY_SIMPLEX, 0.4, (255,255,255), 1, cv2.LINE_AA)\n",
    "    visualization = cv2.putText(visualization, \"(Least first - Most first)/2\", (10, 40), \n",
    "                                cv2.FONT_HERSHEY_SIMPLEX, 0.3, (255,255,255), 1, cv2.LINE_AA)\n",
    "    visualization = cv2.putText(visualization, f\"Percentiles: {percentiles}\", (10, 55), \n",
    "                                cv2.FONT_HERSHEY_SIMPLEX, 0.4, (255,255,255), 1, cv2.LINE_AA)    \n",
    "    visualization = cv2.putText(visualization, \"Remove and Debias\", (10, 70), \n",
    "                                cv2.FONT_HERSHEY_SIMPLEX, 0.4, (255,255,255), 1, cv2.LINE_AA) \n",
    "    visualization = cv2.putText(visualization, f\"{score:.5f}\", (10, 85), \n",
    "                                cv2.FONT_HERSHEY_SIMPLEX, 0.4, (255,255,255), 1, cv2.LINE_AA)    \n",
    "    return visualization\n",
    "    \n",
    "def benchmark(input_tensor, target_layers, eigen_smooth=False, aug_smooth=False, category=281):\n",
    "    methods = [(\"GradCAM\", GradCAM(model=model, target_layers=target_layers)),\n",
    "               (\"HiResCAM\", HiResCAM(model=model, target_layers=target_layers)),\n",
    "               (\"LayerCAM\", LayerCAM(model=model, target_layers=target_layers)),\n",
    "               (\"GradCAM++\", GradCAMPlusPlus(model=model, target_layers=target_layers)),\n",
    "               (\"XGradCAM\", XGradCAM(model=model, target_layers=target_layers)),\n",
    "               (\"ShapleyCAM\", ShapleyCAM(model=model, target_layers=target_layers)),\n",
    "               (\"ScoreCAM\", ScoreCAM(model=model, target_layers=target_layers)),\n",
    "               (\"EigenGradCAM\", EigenGradCAM(model=model, target_layers=target_layers)),\n",
    "               (\"AblationCAM\", AblationCAM(model=model, target_layers=target_layers)),\n",
    "               (\"RandomCAM\", RandomCAM(model=model, target_layers=target_layers))]\n",
    "\n",
    "    cam_metric = ROADCombined(percentiles=[20, 40, 60, 80])\n",
    "    targets = [ClassifierOutputTarget(category)]\n",
    "    # targets = [ClassifierOutputSoftmaxTarget(category)]\n",
    "    metric_targets = [ClassifierOutputSoftmaxTarget(category)]\n",
    "    \n",
    "    visualizations = []\n",
    "    percentiles = [10, 50, 90]\n",
    "    for name, cam_method in methods:\n",
    "        with cam_method:\n",
    "            attributions = cam_method(input_tensor=input_tensor, \n",
    "                                      targets=targets, eigen_smooth=eigen_smooth, aug_smooth=aug_smooth)\n",
    "        attribution = attributions[0, :]    \n",
    "        scores = cam_metric(input_tensor, attributions, metric_targets, model)\n",
    "        score = scores[0]\n",
    "        visualization = show_cam_on_image(cat_and_dog, attribution, use_rgb=True)\n",
    "        visualization = visualize_score(visualization, score, name, percentiles)\n",
    "        visualizations.append(visualization)\n",
    "    return Image.fromarray(np.hstack(visualizations))\n",
    "\n",
    "cat_and_dog_image_url = \"https://raw.githubusercontent.com/jacobgil/pytorch-grad-cam/master/examples/both.png\"\n",
    "cat_and_dog = np.array(Image.open(requests.get(cat_and_dog_image_url, stream=True).raw))\n",
    "cat_and_dog = np.float32(cat_and_dog) / 255\n",
    "input_tensor = preprocess_image(cat_and_dog, mean=[0.485, 0.456, 0.406], std=[0.229, 0.224, 0.225])\n",
    "target_layers = [model.layer2[-1].relu]\n",
    "\n",
    "model.cuda()\n",
    "input_tensor = input_tensor.cuda()\n",
    "np.random.seed(42)\n",
    "benchmark(input_tensor, target_layers, eigen_smooth=False, aug_smooth=False)"
   ]
  },
  {
   "cell_type": "markdown",
   "id": "956a5bc0",
   "metadata": {},
   "source": [
    "So EigenGradCAM is a clear winner, not unsurprisingly since it also looks smoother.\n",
    "\n",
    "What about if we use an earlier layer with lower level features?"
   ]
  },
  {
   "cell_type": "code",
   "execution_count": null,
   "id": "5f581db2",
   "metadata": {
    "ExecuteTime": {
     "start_time": "2024-07-24T16:08:40.406930600Z"
    }
   },
   "outputs": [],
   "source": [
    "target_layers = [model.layer4[-2]]\n",
    "benchmark(input_tensor, target_layers)"
   ]
  },
  {
   "cell_type": "code",
   "execution_count": null,
   "id": "f3c544d7",
   "metadata": {
    "ExecuteTime": {
     "start_time": "2024-07-24T16:08:40.407932700Z"
    }
   },
   "outputs": [],
   "source": [
    "np.random.seed(0)\n",
    "benchmark(input_tensor, target_layers)"
   ]
  },
  {
   "cell_type": "code",
   "execution_count": null,
   "id": "cdfb205c",
   "metadata": {
    "ExecuteTime": {
     "start_time": "2024-07-24T16:08:40.408932400Z"
    }
   },
   "outputs": [],
   "source": [
    "# Let's look how it looks for one of the dog categories (that the model is much less confident about)\n",
    "np.random.seed(0)\n",
    "benchmark(input_tensor, target_layers, category=246)"
   ]
  },
  {
   "cell_type": "markdown",
   "id": "0fbf21a1",
   "metadata": {},
   "source": [
    "So using this metric we can see that:\n",
    "- The different methods perform quite different.\n",
    "- You can use the metric to tune parameters like which layer or explainability method to use.\n",
    "- The explanations are quite different between the different methods.\n",
    "- A Random CAM isn't always that behind some of the methods, but still they are much better than random..\n",
    "In any case we need to be suspicious about the results and double check them against benchmarks like RandomCAM or Sobel, before extracting too many insights from them."
   ]
  }
 ],
 "metadata": {
  "kernelspec": {
   "display_name": "Python 3 (ipykernel)",
   "language": "python",
   "name": "python3"
  },
  "language_info": {
   "codemirror_mode": {
    "name": "ipython",
    "version": 3
   },
   "file_extension": ".py",
   "mimetype": "text/x-python",
   "name": "python",
   "nbconvert_exporter": "python",
   "pygments_lexer": "ipython3",
   "version": "3.8.19"
  }
 },
 "nbformat": 4,
 "nbformat_minor": 5
}
