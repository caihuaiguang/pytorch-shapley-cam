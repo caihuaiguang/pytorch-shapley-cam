{
 "cells": [
  {
   "cell_type": "code",
   "execution_count": null,
   "metadata": {},
   "outputs": [],
   "source": [
    "import sys\n",
    "\n",
    "sys.path.append('/home/caihuaiguang/DSG/pytorch-shapley-cam')\n",
    "\n",
    "# 验证路径是否已添加\n",
    "print(sys.path)\n",
    "import os\n",
    "os.environ[\"CUDA_VISIBLE_DEVICES\"] = \"2\"  # 将 \"0\" 替换为你想指定的 GPU ID\n",
    "\n"
   ]
  },
  {
   "cell_type": "code",
   "execution_count": 2,
   "metadata": {},
   "outputs": [],
   "source": [
    "# import warnings\n",
    "# warnings.filterwarnings('ignore')\n",
    "from torchvision import models\n",
    "import numpy as np\n",
    "import timm\n",
    "import cv2\n",
    "import requests\n",
    "from pytorch_grad_cam import GradCAM\n",
    "from pytorch_grad_cam.utils.model_targets import ClassifierOutputTarget\n",
    "from pytorch_grad_cam.utils.image import show_cam_on_image, \\\n",
    "    deprocess_image, \\\n",
    "    preprocess_image\n",
    "from PIL import Image\n",
    "from pytorch_grad_cam.metrics.road import ROADMostRelevantFirst\n",
    "from pytorch_grad_cam.metrics.road import ROADLeastRelevantFirstAverage, ROADMostRelevantFirstAverage\n",
    "from pytorch_grad_cam.metrics.road import ROADCombined\n",
    "from pytorch_grad_cam.metrics.cam_mult_image import CamMultImageConfidenceChange\n",
    "from pytorch_grad_cam.utils.model_targets import ClassifierOutputSoftmaxTarget, ClassifierOutputLnSoftmaxTarget,  ClassifierOutputEntropy, ClassifierOutputReST\n",
    "from pytorch_grad_cam.ablation_layer import AblationLayerVit\n",
    "from pytorch_grad_cam.metrics.ADCC import ADCC\n",
    "from pytorch_grad_cam import GradCAM, GradCAMPlusPlus, ScoreCAM, EigenGradCAM, LayerCAM, AblationCAM, RandomCAM, ShapleyCAM, ShapleyCAM_mean, ShapleyCAM_hires, GradCAMElementWise, HiResCAM, XGradCAM\n"
   ]
  },
  {
   "cell_type": "code",
   "execution_count": 3,
   "metadata": {},
   "outputs": [],
   "source": [
    "# # vit performance is not good\n",
    "# import torch\n",
    "# def reshape_transform(tensor, height=14, width=14):\n",
    "#     # print(tensor.shape)\n",
    "#     result = tensor[:, 1:, :].reshape(tensor.size(0),\n",
    "#                                       height, width, tensor.size(2))\n",
    "\n",
    "#     # Bring the channels to the first dimension,\n",
    "#     # like in CNNs.\n",
    "#     result = result.transpose(2, 3).transpose(1, 2)\n",
    "#     return result\n",
    "# model = torch.hub.load('facebookresearch/deit:main',\n",
    "#                         'deit_tiny_patch16_224', pretrained=True)\n",
    "# target_layers =  [model.blocks[-1].norm1]\n",
    "# # target_layers =  [model.blocks[-1].norm2]\n",
    "# # target_layers =  [model.norm]"
   ]
  },
  {
   "cell_type": "code",
   "execution_count": 4,
   "metadata": {},
   "outputs": [],
   "source": [
    "def reshape_transform(result, height=7, width=7):\n",
    "    result = result.transpose(2, 3).transpose(1, 2)\n",
    "    return result\n",
    "\n",
    "model = timm.create_model('swin_base_patch4_window7_224', pretrained=True)\n",
    "target_layers = [model.layers[-1].blocks[-1].norm1]\n",
    "# target_layers = [model.norm]"
   ]
  },
  {
   "cell_type": "code",
   "execution_count": 5,
   "metadata": {},
   "outputs": [],
   "source": [
    "# def reshape_transform(result, height=7, width=7):\n",
    "#     result = result.reshape(result.size(0),\n",
    "#                             height, width, result.size(2))\n",
    "\n",
    "#     # Bring the channels to the first dimension,\n",
    "#     # like in CNNs.\n",
    "#     result = result.transpose(2, 3).transpose(1, 2)\n",
    "#     return result\n",
    "\n",
    "# model = timm.create_model('swin_base_patch4_window7_224', pretrained=True)\n",
    "# target_layers = [model.layers[-1].blocks[-1].norm2]"
   ]
  },
  {
   "cell_type": "code",
   "execution_count": 6,
   "metadata": {},
   "outputs": [],
   "source": [
    "\n",
    "# model = models.resnet101(pretrained=True)\n",
    "# reshape_transform = None\n",
    "# target_layers = [model.layer4[-2].conv3]"
   ]
  },
  {
   "cell_type": "code",
   "execution_count": 7,
   "metadata": {},
   "outputs": [],
   "source": [
    "\n",
    "# model = models.resnet18(pretrained=True)\n",
    "# reshape_transform = None\n",
    "# target_layers = [model.layer4[-1].conv2]\n",
    "# # target_layers = [model.layer4[-1].relu]"
   ]
  },
  {
   "cell_type": "code",
   "execution_count": 8,
   "metadata": {},
   "outputs": [],
   "source": [
    "\n",
    "# model = models.efficientnet_b0(pretrained=True)\n",
    "# reshape_transform = None\n",
    "# target_layers = [model.features[8][0]]"
   ]
  },
  {
   "cell_type": "code",
   "execution_count": 9,
   "metadata": {},
   "outputs": [],
   "source": [
    "\n",
    "# model = models.mobilenet_v2(weights=models.MobileNet_V2_Weights.IMAGENET1K_V1)\n",
    "# reshape_transform = None\n",
    "# target_layers = [model.features[-1][0]]\n",
    "# # print(model.features[8])"
   ]
  },
  {
   "cell_type": "code",
   "execution_count": 10,
   "metadata": {},
   "outputs": [],
   "source": [
    "model.eval()\n",
    "model = model.cuda()\n",
    "\n",
    "# Showing the metrics on top of the CAM : \n",
    "def visualize_score(visualization, name, adcc, avg_drop, coherency, complexity, IC, ADD ):\n",
    "    visualization = cv2.putText(visualization, name, (10, 20), \n",
    "                                cv2.FONT_HERSHEY_SIMPLEX, 0.4, (255,255,255), 1, cv2.LINE_AA)\n",
    "    visualization = cv2.putText(visualization, f\"ADCC: {adcc:.5f}\", (10, 40), \n",
    "                                cv2.FONT_HERSHEY_SIMPLEX, 0.4, (255,255,255), 1, cv2.LINE_AA)\n",
    "    visualization = cv2.putText(visualization, f\"AD: {avg_drop:.5f}\", (10, 55), \n",
    "                                cv2.FONT_HERSHEY_SIMPLEX, 0.4, (255,255,255), 1, cv2.LINE_AA)    \n",
    "    visualization = cv2.putText(visualization, f\"Coherency: {coherency:.5f}\", (10, 70), \n",
    "                                cv2.FONT_HERSHEY_SIMPLEX, 0.4, (255,255,255), 1, cv2.LINE_AA) \n",
    "    visualization = cv2.putText(visualization, f\"Complexity: {complexity:.5f}\", (10, 85), \n",
    "                                cv2.FONT_HERSHEY_SIMPLEX, 0.4, (255,255,255), 1, cv2.LINE_AA)    \n",
    "    visualization = cv2.putText(visualization, f\"IC: {IC:.5f}\", (10, 100), \n",
    "                                cv2.FONT_HERSHEY_SIMPLEX, 0.4, (255,255,255), 1, cv2.LINE_AA) \n",
    "    visualization = cv2.putText(visualization, f\"ADD: {ADD:.5f}\", (10, 115), \n",
    "                                cv2.FONT_HERSHEY_SIMPLEX, 0.4, (255,255,255), 1, cv2.LINE_AA)    \n",
    "    return visualization\n",
    "    \n",
    "def benchmark(_img_example, input_tensor, target_layers, eigen_smooth=False, aug_smooth=False, category=None):\n",
    "    methods = [(\"GradCAM\", GradCAM(model=model, target_layers=target_layers, reshape_transform=reshape_transform)),\n",
    "               (\"HiResCAM\", HiResCAM(model=model, target_layers=target_layers, reshape_transform=reshape_transform)),\n",
    "               (\"LayerCAM\", LayerCAM(model=model, target_layers=target_layers, reshape_transform=reshape_transform)),\n",
    "               (\"GradCAMElementWise\", GradCAMElementWise(model=model, target_layers=target_layers, reshape_transform=reshape_transform)),\n",
    "               (\"ScoreCAM\", ScoreCAM(model=model, target_layers=target_layers, reshape_transform=reshape_transform)),\n",
    "               (\"XGradCAM\", XGradCAM(model=model, target_layers=target_layers, reshape_transform=reshape_transform)),\n",
    "               (\"GradCAM++\", GradCAMPlusPlus(model=model, target_layers=target_layers, reshape_transform=reshape_transform)),\n",
    "               (\"ShapleyCAM\", ShapleyCAM(model=model, target_layers=target_layers, reshape_transform=reshape_transform)),\n",
    "               (\"ShapleyCAM_mean\", ShapleyCAM_mean(model=model, target_layers=target_layers, reshape_transform=reshape_transform)),\n",
    "               (\"ShapleyCAM_hires\", ShapleyCAM_hires(model=model, target_layers=target_layers, reshape_transform=reshape_transform)),\n",
    "               (\"EigenGradCAM\", EigenGradCAM(model=model, target_layers=target_layers, reshape_transform=reshape_transform)),\n",
    "            #    (\"AblationCAM\", AblationCAM(model=model, target_layers=target_layers, reshape_transform=reshape_transform, ablation_layer=AblationLayerVit())),\n",
    "               (\"RandomCAM\", RandomCAM(model=model, target_layers=target_layers, reshape_transform=reshape_transform))]\n",
    "\n",
    "    cam_metric = ADCC()\n",
    "    targets = [ClassifierOutputTarget(category)]\n",
    "    # targets = [ClassifierOutputSoftmaxTarget(category)]\n",
    "    # targets = [ClassifierOutputLnSoftmaxTarget(category)]\n",
    "    # targets = [ClassifierOutputEntropy(category)]\n",
    "    # targets = [ClassifierOutputReST(category)]\n",
    "    \n",
    "    metric_targets = [ClassifierOutputSoftmaxTarget(category)]\n",
    "    \n",
    "    visualizations = []\n",
    "    for name, cam_method in methods:\n",
    "        attributions = cam_method(input_tensor=input_tensor, \n",
    "                                    targets=targets, eigen_smooth=eigen_smooth, aug_smooth=aug_smooth)\n",
    "        attribution = attributions[0, :]   \n",
    "        adcc, avg_drop, coherency, complexity, inc, dropindeletion   =cam_metric(input_tensor,attributions,targets,metric_targets,model, cam_method)\n",
    "        visualization = show_cam_on_image(_img_example, attribution, use_rgb=True)\n",
    "        visualization = visualize_score(visualization, name, adcc[0], avg_drop[0], coherency[0], complexity[0], inc[0], dropindeletion[0] )\n",
    "        visualizations.append(visualization)\n",
    "    return Image.fromarray(np.hstack(visualizations))\n"
   ]
  },
  {
   "cell_type": "code",
   "execution_count": 11,
   "metadata": {},
   "outputs": [],
   "source": [
    "# https://deeplearning.cms.waikato.ac.nz/user-guide/class-maps/IMAGENET/\n",
    "# using this link to get label name from ID (start from 0) "
   ]
  },
  {
   "cell_type": "code",
   "execution_count": null,
   "metadata": {},
   "outputs": [],
   "source": [
    "## mul\n",
    "img_example = np.array(Image.open(\"./ILSVRC2012_val_00022113.JPEG\")) \n",
    "category = 1 # \ttench\n",
    "\n",
    "\n",
    "img_example = np.array(Image.fromarray(img_example).resize((224, 224)))\n",
    "img_example = np.float32(img_example) / 255\n",
    "input_tensor = preprocess_image(img_example, mean=[0.485, 0.456, 0.406], std=[0.229, 0.224, 0.225])\n",
    "\n",
    "model.cuda()\n",
    "input_tensor = input_tensor.cuda()\n",
    "np.random.seed(42)\n",
    "benchmark(img_example, input_tensor, target_layers, eigen_smooth=False, aug_smooth=False, category= category)"
   ]
  },
  {
   "cell_type": "code",
   "execution_count": null,
   "metadata": {},
   "outputs": [],
   "source": [
    "## mul\n",
    "img_example = np.array(Image.open(\"./ILSVRC2012_val_00019184.JPEG\")) \n",
    "category = 9 # ostrich\n",
    "\n",
    "\n",
    "img_example = np.array(Image.fromarray(img_example).resize((224, 224)))\n",
    "img_example = np.float32(img_example) / 255\n",
    "input_tensor = preprocess_image(img_example, mean=[0.485, 0.456, 0.406], std=[0.229, 0.224, 0.225])\n",
    "\n",
    "model.cuda()\n",
    "input_tensor = input_tensor.cuda()\n",
    "np.random.seed(42)\n",
    "benchmark(img_example, input_tensor, target_layers, eigen_smooth=False, aug_smooth=False, category= category)"
   ]
  },
  {
   "cell_type": "code",
   "execution_count": null,
   "metadata": {},
   "outputs": [],
   "source": [
    "## mul\n",
    "img_example = np.array(Image.open(\"./ILSVRC2012_val_00006149.JPEG\")) \n",
    "category = 28 # spotted salamander\n",
    "\n",
    "\n",
    "img_example = np.array(Image.fromarray(img_example).resize((224, 224)))\n",
    "img_example = np.float32(img_example) / 255\n",
    "input_tensor = preprocess_image(img_example, mean=[0.485, 0.456, 0.406], std=[0.229, 0.224, 0.225])\n",
    "\n",
    "model.cuda()\n",
    "input_tensor = input_tensor.cuda()\n",
    "np.random.seed(42)\n",
    "benchmark(img_example, input_tensor, target_layers, eigen_smooth=False, aug_smooth=False, category= category)"
   ]
  },
  {
   "cell_type": "code",
   "execution_count": null,
   "metadata": {},
   "outputs": [],
   "source": [
    "## mul\n",
    "img_example = np.array(Image.open(\"./ILSVRC2012_val_00005745.JPEG\")) # 992\n",
    "category = 992 # agaric\n",
    "\n",
    "\n",
    "img_example = np.array(Image.fromarray(img_example).resize((224, 224)))\n",
    "img_example = np.float32(img_example) / 255\n",
    "input_tensor = preprocess_image(img_example, mean=[0.485, 0.456, 0.406], std=[0.229, 0.224, 0.225])\n",
    "\n",
    "model.cuda()\n",
    "input_tensor = input_tensor.cuda()\n",
    "np.random.seed(42)\n",
    "benchmark(img_example, input_tensor, target_layers, eigen_smooth=False, aug_smooth=False, category= category)"
   ]
  },
  {
   "cell_type": "code",
   "execution_count": null,
   "metadata": {},
   "outputs": [],
   "source": [
    "img_example = np.array(Image.open(\"./ILSVRC2012_val_00008440.JPEG\")) \n",
    "category = 998 #spike\n",
    "\n",
    "\n",
    "img_example = np.array(Image.fromarray(img_example).resize((224, 224)))\n",
    "img_example = np.float32(img_example) / 255\n",
    "input_tensor = preprocess_image(img_example, mean=[0.485, 0.456, 0.406], std=[0.229, 0.224, 0.225])\n",
    "\n",
    "model.cuda()\n",
    "input_tensor = input_tensor.cuda()\n",
    "np.random.seed(42)\n",
    "benchmark(img_example, input_tensor, target_layers, eigen_smooth=False, aug_smooth=False, category= category)"
   ]
  },
  {
   "cell_type": "code",
   "execution_count": null,
   "metadata": {},
   "outputs": [],
   "source": [
    "img_example = np.array(Image.open(\"./ILSVRC2012_val_00001079.JPEG\")) \n",
    "category = 999 # toilet tissue\n",
    "\n",
    "\n",
    "img_example = np.array(Image.fromarray(img_example).resize((224, 224)))\n",
    "img_example = np.float32(img_example) / 255\n",
    "input_tensor = preprocess_image(img_example, mean=[0.485, 0.456, 0.406], std=[0.229, 0.224, 0.225])\n",
    "\n",
    "model.cuda()\n",
    "input_tensor = input_tensor.cuda()\n",
    "np.random.seed(42)\n",
    "benchmark(img_example, input_tensor, target_layers, eigen_smooth=False, aug_smooth=False, category= category)"
   ]
  },
  {
   "cell_type": "code",
   "execution_count": null,
   "metadata": {},
   "outputs": [],
   "source": [
    "img_example = np.array(Image.open(\"../examples/both.png\")) \n",
    "\n",
    "category = 281\n",
    "\n",
    "\n",
    "# img_example = np.array(Image.fromarray(img_example).resize((224, 224)))\n",
    "img_example = np.float32(img_example) / 255\n",
    "input_tensor = preprocess_image(img_example, mean=[0.485, 0.456, 0.406], std=[0.229, 0.224, 0.225])\n",
    "model.cuda()\n",
    "input_tensor = input_tensor.cuda()\n",
    "benchmark(img_example, input_tensor, target_layers, eigen_smooth=False, aug_smooth=False, category= category)"
   ]
  },
  {
   "cell_type": "code",
   "execution_count": null,
   "metadata": {},
   "outputs": [],
   "source": [
    "category = 243\n",
    "# input_tensor = preprocess_image(img_example, mean=[0.485, 0.456, 0.406], std=[0.229, 0.224, 0.225])\n",
    "\n",
    "model.cuda()\n",
    "input_tensor = input_tensor.cuda()\n",
    "benchmark(img_example, input_tensor, target_layers, eigen_smooth=False, aug_smooth=False, category= category)"
   ]
  }
 ],
 "metadata": {
  "kernelspec": {
   "display_name": "cords",
   "language": "python",
   "name": "python3"
  },
  "language_info": {
   "codemirror_mode": {
    "name": "ipython",
    "version": 3
   },
   "file_extension": ".py",
   "mimetype": "text/x-python",
   "name": "python",
   "nbconvert_exporter": "python",
   "pygments_lexer": "ipython3",
   "version": "3.8.19"
  }
 },
 "nbformat": 4,
 "nbformat_minor": 2
}
